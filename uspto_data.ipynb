{
 "cells": [
  {
   "cell_type": "code",
   "execution_count": null,
   "metadata": {},
   "outputs": [],
   "source": [
    "from bs4 import BeautifulSoup\n",
    "import csv\n",
    "import requests\n",
    "import re\n",
    "import os\n",
    "#must pip install wget\n",
    "import wget\n",
    "\n",
    "#enter the file path to folder where downloads will be saved\n",
    "dir_path = '/home/admin-dir/uspto_datapwd'\n",
    "#open and csv containing list of links \n",
    "with open (\"/home/admin-dir/link_list.csv\", newline= '', encoding='utf-8-sig') as link_file:\n",
    "    csv_read = csv.reader(link_file, delimiter=' ', quotechar='|')\n",
    "#iterate through link in csv\n",
    "    for row in csv_read:\n",
    "        x = (''.join(row))\n",
    "        print(x)\n",
    "#spoof the user agent to prevent being blocked\n",
    "        headers = {'User-Agent': 'Mozilla/5.0 (Macintosh; Intel Mac OS X 10_10_1) AppleWebKit/537.36 (KHTML, like Gecko) Chrome/39.0.2171.95 Safari/537.36'}\n",
    "        spoof = requests.get(x, headers=headers)\n",
    "#run text through beautifulSoup   \n",
    "        source = spoof.text\n",
    "        source_bs = BeautifulSoup(source)\n",
    "#create lists to hold links\n",
    "        link_list = []\n",
    "#find all links that end with .zip and append them to new_link list\n",
    "        for link in source_bs.find_all(\"a\"):\n",
    "            new_link = link.get(\"href\")\n",
    "            if new_link.endswith('.zip'):\n",
    "                link_list.append(x + '/' + new_link) \n",
    "#iterate through link_list to download zip files\n",
    "        for link in link_list:\n",
    "#extract name of file from url and save to file_name variable\n",
    "            file_name = (os.path.basename(link))\n",
    "#create path where downloaded file will be saved\n",
    "            download_path = os.path.join(dir_path, file_name)\n",
    "            print(link, download_path)\n",
    "# #download file and set output directory\n",
    "#             wget.download(link, download_path)\n",
    "\n",
    "#requests method for downloading             \n",
    "            download = requests.get(link)\n",
    "            with open(download_path, \"wb\") as file:\n",
    "                file.write(download.content)"
   ]
  }
 ],
 "metadata": {
  "kernelspec": {
   "display_name": "Python 3",
   "language": "python",
   "name": "python3"
  },
  "language_info": {
   "codemirror_mode": {
    "name": "ipython",
    "version": 3
   },
   "file_extension": ".py",
   "mimetype": "text/x-python",
   "name": "python",
   "nbconvert_exporter": "python",
   "pygments_lexer": "ipython3",
   "version": "3.8.3"
  }
 },
 "nbformat": 4,
 "nbformat_minor": 4
}
